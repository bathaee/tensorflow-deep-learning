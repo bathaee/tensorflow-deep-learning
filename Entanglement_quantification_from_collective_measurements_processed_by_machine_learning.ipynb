{
  "cells": [
    {
      "cell_type": "markdown",
      "metadata": {
        "id": "view-in-github",
        "colab_type": "text"
      },
      "source": [
        "<a href=\"https://colab.research.google.com/github/bathaee/tensorflow-deep-learning/blob/main/Entanglement_quantification_from_collective_measurements_processed_by_machine_learning.ipynb\" target=\"_parent\"><img src=\"https://colab.research.google.com/assets/colab-badge.svg\" alt=\"Open In Colab\"/></a>"
      ]
    },
    {
      "cell_type": "code",
      "execution_count": 1,
      "metadata": {
        "id": "ubxi2wLQmDG_"
      },
      "outputs": [],
      "source": [
        "#pip install qutip"
      ]
    },
    {
      "cell_type": "code",
      "execution_count": 2,
      "metadata": {
        "id": "44YW4maCbdY3",
        "colab": {
          "base_uri": "https://localhost:8080/",
          "height": 34
        },
        "outputId": "e93cba5c-a1e5-4067-f3b3-84ba9ed655aa"
      },
      "outputs": [
        {
          "output_type": "execute_result",
          "data": {
            "text/plain": [
              "'2.8.2'"
            ],
            "application/vnd.google.colaboratory.intrinsic+json": {
              "type": "string"
            }
          },
          "metadata": {},
          "execution_count": 2
        }
      ],
      "source": [
        "import tensorflow as tf\n",
        "import numpy as np\n",
        "tf.__version__\n",
        "#import qutip as qt\n",
        "#tf.random.set_seed(42)"
      ]
    },
    {
      "cell_type": "code",
      "execution_count": 3,
      "metadata": {
        "id": "e7KGysJmjejd"
      },
      "outputs": [],
      "source": [
        "# Create diagonal rho by QuTiP (howerver it is not necessary just remember to use tf.complex128)\n",
        "#sample_length = 20\n",
        "#r1 = np.random.uniform(0,1,sample_length)\n",
        "#r2 = np.random.uniform(0,1,sample_length)\n",
        "#r3 = np.random.uniform(0,1,sample_length)\n",
        "#r4 = np.random.uniform(0,1,sample_length)\n",
        "\n",
        "#rho_0 = tf.zeros([sample_length,4,4], dtype=tf.complex128)\n",
        "#rho_0_V = tf.Variable(rho_0)\n",
        "\n",
        "#for i in range(sample_length):\n",
        "  # r11 = [r1[i],0,0,0]\n",
        "  # r22 = [0,r2[i]*(1-r1[i]),0,0]\n",
        "  # r33 = [0,0,r3[i]*(1-r2[i]*(1-r1[i])-r1[i]),0]\n",
        "  # r44 = [0,0,0,r4[i]*(1-r3[i]*(1-r2[i]*(1-r1[i])-r1[i])-r2[i]*(1-r1[i])-r1[i])]\n",
        "  # #rho_qt=qt.Qobj([r11,r22,r33,r44]) \n",
        "  # #rho_ps = tf.constant(rho_qt) \n",
        "  # # or write:\n",
        "  # rho_ps = tf.constant([r11,r22,r33,r44],dtype=tf.complex128) #rho per sample\n",
        "  # rho = rho_0_V [i,:,:].assign(rho_ps)"
      ]
    },
    {
      "cell_type": "code",
      "source": [
        "# new Create diagonal rho by QuTiP (howerver it is not necessary just remember to use tf.complex128)\n",
        "\n",
        "def rho_i(r1,r2,r3,r4): # A diagonal random density matrix\n",
        "    r11 = [r1,0,0,0]\n",
        "    r22 = [0,r2*(1-r1),0,0]\n",
        "    r33 = [0,0,r3*(1-r2*(1-r1)-r1),0]\n",
        "    r44 = [0,0,0,r4*(1-r3*(1-r2*(1-r1)-r1)-r2*(1-r1)-r1)]\n",
        "    return tf.constant([r11,r22,r33,r44],dtype=tf.complex128)\n",
        "\n",
        "  \n",
        "sample_length = 10000\n",
        "r1 = np.random.uniform(0,1,sample_length)\n",
        "r2 = np.random.uniform(0,1,sample_length)\n",
        "r3 = np.random.uniform(0,1,sample_length)\n",
        "r4 = np.random.uniform(0,1,sample_length)\n",
        "\n",
        "rho_i_s = tf.zeros(shape=(sample_length,4,4),dtype=tf.complex128)\n",
        "rho_i_s_V = tf.Variable(rho_i_s)\n",
        "\n",
        "for j in range(sample_length):\n",
        "  rho_i_s_V[j,:,:].assign(rho_i(r1[j],r2[j],r3[j],r4[j]))\n",
        "   \n",
        "rho = rho_i_s_V\n",
        "#rho , rho_i(r1[1],r2[1],r3[1],r4[1])"
      ],
      "metadata": {
        "id": "2vQIKx9c4U22"
      },
      "execution_count": 4,
      "outputs": []
    },
    {
      "cell_type": "code",
      "execution_count": 1,
      "metadata": {
        "id": "IImfcy-ChVU0"
      },
      "outputs": [],
      "source": [
        "# Functions which create 6x10 matrices for parameters. 10 is the number of random data of uniform distribution \n",
        "def random_param_2pi(s):\n",
        "    output = [np.random.uniform(0,2*np.pi,s),\n",
        "              np.random.uniform(0,2*np.pi,s),\n",
        "              np.random.uniform(0,2*np.pi,s),\n",
        "              np.random.uniform(0,2*np.pi,s),\n",
        "              np.random.uniform(0,2*np.pi,s),\n",
        "              np.random.uniform(0,2*np.pi,s)]\n",
        "    return (output)\n",
        "def random_param_half_pi(s):\n",
        "    output = [np.random.uniform(0,np.pi/2,s),\n",
        "              np.random.uniform(0,np.pi/2,s),\n",
        "              np.random.uniform(0,np.pi/2,s),\n",
        "              np.random.uniform(0,np.pi/2,s),\n",
        "              np.random.uniform(0,np.pi/2,s),\n",
        "              np.random.uniform(0,np.pi/2,s)]\n",
        "    return (output)   \n",
        "def random_param_zeta(s):\n",
        "    output = [np.random.uniform(0,1,s),\n",
        "              np.random.uniform(0,1,s),\n",
        "              np.random.uniform(0,1,s),\n",
        "              np.random.uniform(0,1,s),\n",
        "              np.random.uniform(0,1,s),\n",
        "              np.random.uniform(0,1,s)]\n",
        "    return (output)      "
      ]
    },
    {
      "cell_type": "code",
      "execution_count": 6,
      "metadata": {
        "id": "KTSY04WJh7o4"
      },
      "outputs": [],
      "source": [
        "# Quantify parameters with above functions\n",
        "alpha = tf.constant(random_param_2pi(sample_length),dtype=tf.complex128)\n",
        "psi = tf.constant(random_param_2pi(sample_length),dtype=tf.complex128)\n",
        "xi = tf.constant(random_param_2pi(sample_length),dtype=tf.complex128)\n",
        "phi_o = tf.constant(random_param_half_pi(sample_length),dtype=tf.complex128)\n",
        "phi = tf.constant(np.arcsin(np.sqrt(random_param_zeta(sample_length))),dtype=tf.complex128)"
      ]
    },
    {
      "cell_type": "code",
      "execution_count": 7,
      "metadata": {
        "id": "9TkbYyZxh9tN"
      },
      "outputs": [],
      "source": [
        "# A function which creates an arbitrary unitary 2x2 matrices according to random parameters i=1...6, j=1...sample_length\n",
        "def u_little_i(alpha_i,psi_i,xi_i,phi_i):\n",
        "  ui_11 = np.exp(1j*(np.real(alpha_i.numpy()+psi_i.numpy())))*np.cos(np.real(phi_i.numpy()))\n",
        "  ui_12 = np.exp(1j*(np.real(alpha_i.numpy()+xi_i.numpy())))*np.sin(np.real(phi_i.numpy()))\n",
        "  ui_21 = -np.exp(1j*(np.real(alpha_i.numpy()-xi_i.numpy())))*np.sin(np.real(phi_i.numpy()))\n",
        "  ui_22 = np.exp(1j*(np.real(alpha_i.numpy()-psi_i.numpy())))*np.cos(np.real(phi_i.numpy()))\n",
        "  u_i = tf.constant([[ui_11,ui_12],[ui_21,ui_22]],dtype=tf.complex128)\n",
        "  return(u_i)"
      ]
    },
    {
      "cell_type": "code",
      "source": [
        "np.cos(alpha[0,0].numpy()), np.cos(np.real(alpha[0,0].numpy()))"
      ],
      "metadata": {
        "colab": {
          "base_uri": "https://localhost:8080/"
        },
        "id": "luzpd5MiBkLi",
        "outputId": "174e969e-ab57-44b0-be87-5c84cca55bd8"
      },
      "execution_count": 8,
      "outputs": [
        {
          "output_type": "execute_result",
          "data": {
            "text/plain": [
              "((-0.34560135991194724-0j), -0.34560135991194724)"
            ]
          },
          "metadata": {},
          "execution_count": 8
        }
      ]
    },
    {
      "cell_type": "code",
      "source": [
        "u_little_i(alpha[0,0],psi[0,0],xi[0,0],phi[0,0])"
      ],
      "metadata": {
        "colab": {
          "base_uri": "https://localhost:8080/"
        },
        "id": "FL1jpnEkDQDL",
        "outputId": "8b7bb563-64c6-41d0-fd9c-2d9d4a0719cd"
      },
      "execution_count": 9,
      "outputs": [
        {
          "output_type": "execute_result",
          "data": {
            "text/plain": [
              "<tf.Tensor: shape=(2, 2), dtype=complex128, numpy=\n",
              "array([[ 0.87932281-0.12591511j, -0.31455415-0.33465276j],\n",
              "       [-0.456473  +0.05068718j, -0.58759962-0.66617557j]])>"
            ]
          },
          "metadata": {},
          "execution_count": 9
        }
      ]
    },
    {
      "cell_type": "code",
      "source": [
        "# Dagger fuction\n",
        "def dagger(A):\n",
        "  A_dagger=tf.math.conj(tf.transpose(A))\n",
        "  return A_dagger"
      ],
      "metadata": {
        "id": "3KyDbkllDVn3"
      },
      "execution_count": 10,
      "outputs": []
    },
    {
      "cell_type": "code",
      "execution_count": 11,
      "metadata": {
        "id": "jVISP1UJiWQE"
      },
      "outputs": [],
      "source": [
        "# Create a diagonal identity matrix with the shape 6x4x4\n",
        "diagonal1 = np.array([1, 1, 1, 1])\n",
        "U_0 = tf.cast(tf.linalg.diag(diagonal1),dtype=tf.complex128)\n",
        "U_0_V = tf.Variable(U_0,dtype=tf.complex128)\n",
        "UU = tf.zeros(shape=[6,4,4],dtype=tf.complex128)\n",
        "UU_v = tf.Variable(UU,dtype=tf.complex128) \n",
        "\n",
        "for i in range(0,6):\n",
        "  U0 = UU_v[i].assign(U_0_V)\n",
        "\n",
        "U0 = tf.cast(U0,dtype=tf.complex128)\n",
        "\n",
        "\n",
        "# Create unitary matrices with the shape sample_lengthx6x4x4\n",
        "U = tf.Variable(tf.cast(U0,dtype=tf.complex128)) \n",
        "U_sample = tf.zeros(shape=[sample_length,6,4,4])\n",
        "U_sample_V = tf.Variable(tf.cast(U_sample,dtype=tf.complex128))\n",
        "\n",
        "for j in range(sample_length):\n",
        "    U[0,2:4,2:4].assign(u_little_i(alpha[0,j],psi[0,j],xi[0,j],phi[0,j]))\n",
        "    U[1,1:3,1:3].assign(u_little_i(alpha[1,j],psi[1,j],xi[1,j],phi[1,j]))\n",
        "    U[2,0:2,0:2].assign(u_little_i(alpha[2,j],psi[2,j],xi[2,j],phi[2,j]))\n",
        "    U[3,2:4,2:4].assign(u_little_i(alpha[3,j],psi[3,j],xi[3,j],phi[3,j]))\n",
        "    U[4,1:3,1:3].assign(u_little_i(alpha[4,j],psi[4,j],xi[4,j],phi[4,j]))\n",
        "    U[5,2:4,2:4].assign(u_little_i(alpha[5,j],psi[5,j],xi[5,j],phi[5,j]))\n",
        "    U_sample_V[j].assign(U)\n",
        "\n",
        "# Utotal (Utotal_V) and its dagger (Utotal_star_transpose_V)\n",
        "Utotal = tf.zeros([sample_length,4,4],tf.complex128)\n",
        "Utotal_V = tf.Variable(Utotal,tf.complex128)\n",
        "Utotal_star_transpose = tf.zeros([sample_length,4,4],tf.complex128)\n",
        "Utotal_star_transpose_V = tf.Variable(Utotal_star_transpose,tf.complex128)\n",
        "for j in range(sample_length):\n",
        "  Utotal_V[j].assign(U_sample_V[j,0]@U_sample_V[j,1]@U_sample_V[j,2]@U_sample_V[j,3]@U_sample_V[j,4]@U_sample_V[j,5])\n",
        "  Utotal_star_transpose_V[j].assign(tf.math.conj(tf.transpose(Utotal_V[j])))"
      ]
    },
    {
      "cell_type": "code",
      "execution_count": 12,
      "metadata": {
        "id": "XgRHHKBPTjeT",
        "colab": {
          "base_uri": "https://localhost:8080/"
        },
        "outputId": "b233c0fd-c0f5-4715-e736-f86bcb79afed"
      },
      "outputs": [
        {
          "output_type": "execute_result",
          "data": {
            "text/plain": [
              "<tf.Tensor: shape=(4, 4), dtype=complex128, numpy=\n",
              "array([[-0.33517022-0.78324079j, -0.13400327-0.41868976j,\n",
              "         0.04315082+0.09533569j,  0.16350809-0.20796878j],\n",
              "       [ 0.02148162+0.42015215j, -0.22477712-0.66672947j,\n",
              "        -0.15981406-0.21281946j,  0.49125895+0.12565727j],\n",
              "       [ 0.06103295+0.27014119j,  0.40590204-0.29668283j,\n",
              "         0.27497827+0.12991877j, -0.1125774 -0.75190155j],\n",
              "       [-0.02712178-0.14060094j,  0.12711559+0.20676923j,\n",
              "        -0.15882339-0.89470646j,  0.09582659-0.29270573j]])>"
            ]
          },
          "metadata": {},
          "execution_count": 12
        }
      ],
      "source": [
        "Utotal_V[0]"
      ]
    },
    {
      "cell_type": "code",
      "execution_count": 13,
      "metadata": {
        "id": "7zsK0PMKyD1L",
        "colab": {
          "base_uri": "https://localhost:8080/"
        },
        "outputId": "8dc119d2-c1a3-43be-91f4-b3fa2076b91a"
      },
      "outputs": [
        {
          "output_type": "execute_result",
          "data": {
            "text/plain": [
              "(TensorShape([10000, 4, 4]),\n",
              " TensorShape([10000, 4, 4]),\n",
              " TensorShape([10000, 4, 4]))"
            ]
          },
          "metadata": {},
          "execution_count": 13
        }
      ],
      "source": [
        "Utotal_V.shape, Utotal_star_transpose_V.shape, rho.shape"
      ]
    },
    {
      "cell_type": "code",
      "execution_count": 14,
      "metadata": {
        "id": "wqX8qXCgi-xv",
        "colab": {
          "base_uri": "https://localhost:8080/"
        },
        "outputId": "10812294-5d5e-403c-bb62-5311613996cc"
      },
      "outputs": [
        {
          "output_type": "stream",
          "name": "stdout",
          "text": [
            "A random density matrix is:\n",
            " tf.Tensor(\n",
            "[[ 0.14599242+2.16840434e-19j -0.01270581+8.15486580e-03j\n",
            "   0.03964634+4.61158012e-02j  0.01080823-1.43683168e-01j]\n",
            " [-0.01270581-8.15486580e-03j  0.15893734+6.89823632e-18j\n",
            "  -0.02317907+2.34198704e-03j -0.00709517+5.04689382e-02j]\n",
            " [ 0.03964634-4.61158012e-02j -0.02317907-2.34198704e-03j\n",
            "   0.10169652+1.35525272e-20j -0.03132114-2.39007464e-02j]\n",
            " [ 0.01080823+1.43683168e-01j -0.00709517-5.04689382e-02j\n",
            "  -0.03132114+2.39007464e-02j  0.22725752-3.41523684e-18j]], shape=(4, 4), dtype=complex128)\n"
          ]
        }
      ],
      "source": [
        "# random density matrix per sample\n",
        "rho_tot = Utotal_V@rho@Utotal_star_transpose_V\n",
        "print(\"A random density matrix is:\\n\",rho_tot[1])\n",
        "#Utotal_V[1]\n",
        "#Utotal_star_transpose_V[1]"
      ]
    },
    {
      "cell_type": "code",
      "execution_count": 15,
      "metadata": {
        "id": "KoafE3c8yJE3"
      },
      "outputs": [],
      "source": [
        "rho_tot_star_transpose = dagger(rho_tot[0])"
      ]
    },
    {
      "cell_type": "code",
      "source": [
        "# Partial transpose of rho_tot\n",
        "\n",
        "rho_tot_partial = tf.cast(tf.zeros(shape=(sample_length,4,4)),tf.complex128)\n",
        "rho_tot_partial_V = tf.Variable(rho_tot_partial)\n",
        "#print(rho_tot[0])\n",
        "rho_tot_partial_V[:,0:2,0:2].assign(rho_tot[:,0:2,0:2])\n",
        "#print(rho_tot_partial_V[0])\n",
        "rho_tot_partial_V[:,0:2,2:4].assign(rho_tot[:,2:4,0:2])\n",
        "#print(rho_tot_partial_V[0])\n",
        "rho_tot_partial_V[:,2:4,0:2].assign(rho_tot[:,0:2,2:4])\n",
        "#print(rho_tot_partial_V[0])\n",
        "rho_tot_partial_V[:,2:4,2:4].assign(rho_tot[:,2:4,2:4])\n",
        "#print(rho_tot_partial_V[0])\n",
        "rho_tot_partial_V_s = rho_tot_partial_V\n",
        "#rho_tot_partial_V_s==rho_tot"
      ],
      "metadata": {
        "id": "N8QvFdY78J-m"
      },
      "execution_count": 16,
      "outputs": []
    },
    {
      "cell_type": "code",
      "source": [
        "# Partial transpose function of a two-qubit matrix\n",
        "\n",
        "def partial_2(RHO,s):\n",
        "  rho_partial = tf.cast(tf.zeros(shape=(s,4,4)),tf.complex128)\n",
        "  rho_partial_V = tf.Variable(rho_partial)\n",
        "  rho_partial_V[:,0:2,0:2].assign(RHO[:,0:2,0:2])\n",
        "  rho_partial_V[:,0:2,2:4].assign(RHO[:,2:4,0:2])\n",
        "  rho_partial_V[:,2:4,0:2].assign(RHO[:,0:2,2:4])\n",
        "  rho_partial_V[:,2:4,2:4].assign(RHO[:,2:4,2:4])\n",
        "  return(rho_partial_V)\n"
      ],
      "metadata": {
        "id": "Qve8SfzeyYbx"
      },
      "execution_count": 17,
      "outputs": []
    },
    {
      "cell_type": "code",
      "execution_count": 18,
      "metadata": {
        "id": "iRtvcJwjw9dr"
      },
      "outputs": [],
      "source": [
        "## eigenvalues of partial transpose of rho\n",
        "eigenvalues_rho_partial = tf.linalg.eigvals(partial_2(rho_tot,sample_length))\n",
        "real_eigenvalues_rho_partial = tf.math.real(eigenvalues_rho_partial)\n",
        "min_real_eigenvalues_rho_partial = tf.reduce_min(real_eigenvalues_rho_partial,axis=1)\n",
        "\n",
        "Negativity = tf.zeros(shape=sample_length)\n",
        "Negativity = tf.Variable(Negativity)\n",
        "for j in range(sample_length):\n",
        "  if min_real_eigenvalues_rho_partial[j] < 0:\n",
        "    Negativity[j].assign(-2*min_real_eigenvalues_rho_partial[j].numpy())**2\n",
        "  else:\n",
        "    Negativity[j].assign(0)  \n"
      ]
    },
    {
      "cell_type": "code",
      "source": [
        "# Plot of distribiution of negativity\n",
        "import matplotlib.pyplot as plt\n",
        "from matplotlib.ticker import PercentFormatter\n",
        "A = tf.constant(Negativity,tf.float32)\n",
        "plt.hist(A,10,weights=np.ones(len(A)) / len(A))\n",
        "plt.gca().yaxis.set_major_formatter(PercentFormatter(1))\n",
        "plt.xlabel(\"Negativity\")\n",
        "plt.ylabel(\"probability %\")\n",
        "plt.show()"
      ],
      "metadata": {
        "colab": {
          "base_uri": "https://localhost:8080/",
          "height": 278
        },
        "id": "7W7Wj8gUWfBt",
        "outputId": "f96cabc7-340a-459a-d226-88d032ab5321"
      },
      "execution_count": 19,
      "outputs": [
        {
          "output_type": "display_data",
          "data": {
            "text/plain": [
              "<Figure size 432x288 with 1 Axes>"
            ],
            "image/png": "[encoded data removed]"
          },
          "metadata": {
            "needs_background": "light"
          }
        }
      ]
    },
    {
      "cell_type": "code",
      "execution_count": 20,
      "metadata": {
        "id": "-j24zDjXZAuG"
      },
      "outputs": [],
      "source": [
        "# SWAP operator\n",
        "SWAP = tf.constant([[1,0,0,0],[0,0,1,0],[0,1,0,0],[0,0,0,1]],tf.complex128)\n",
        "\n",
        "rho_tot_SWAP = tf.zeros(shape=[sample_length,4,4])\n",
        "rho_tot_SWAP_V = tf.Variable(tf.cast(rho_tot_SWAP,dtype=tf.complex128))\n",
        "for j in range(sample_length):\n",
        "  rho_tot_SWAP_V [j].assign(SWAP@rho_tot[j]@SWAP)"
      ]
    },
    {
      "cell_type": "code",
      "execution_count": null,
      "metadata": {
        "id": "i5lxXXbQrcdV"
      },
      "outputs": [],
      "source": [
        "# tensor product of rho and rho_swap\n",
        "\n",
        "b = tf.zeros(shape=(sample_length,16,16))\n",
        "bb = tf.Variable(tf.cast(b,dtype=tf.complex128))\n",
        "for j in range(sample_length):\n",
        "  bb = bb[j,0:4,0:4].assign(rho_tot[j]*rho_tot_SWAP_V[j,0,0].numpy())\n",
        "  bb = bb[j,0:4,4:8].assign(rho_tot[j]*rho_tot_SWAP_V[j,0,1].numpy())\n",
        "  bb = bb[j,0:4,8:12].assign(rho_tot[j]*rho_tot_SWAP_V[j,0,2].numpy())\n",
        "  bb = bb[j,0:4,12:16].assign(rho_tot[j]*rho_tot_SWAP_V[j,0,3].numpy())\n",
        "  bb = bb[j,4:8,0:4].assign(rho_tot[j]*rho_tot_SWAP_V[j,1,0].numpy())\n",
        "  bb = bb[j,4:8,4:8].assign(rho_tot[j]*rho_tot_SWAP_V[j,1,1].numpy())\n",
        "  bb = bb[j,4:8,8:12].assign(rho_tot[j]*rho_tot_SWAP_V[j,1,2].numpy())\n",
        "  bb = bb[j,4:8,12:16].assign(rho_tot[j]*rho_tot_SWAP_V[j,1,3].numpy())\n",
        "  bb = bb[j,8:12,0:4].assign(rho_tot[j]*rho_tot_SWAP_V[j,2,0].numpy())\n",
        "  bb = bb[j,8:12,4:8].assign(rho_tot[j]*rho_tot_SWAP_V[j,2,1].numpy())\n",
        "  bb = bb[j,8:12,8:12].assign(rho_tot[j]*rho_tot_SWAP_V[j,2,2].numpy())\n",
        "  bb = bb[j,8:12,12:16].assign(rho_tot[j]*rho_tot_SWAP_V[j,2,3].numpy())\n",
        "  bb = bb[j,12:16,0:4].assign(rho_tot[j]*rho_tot_SWAP_V[j,3,0].numpy())\n",
        "  bb = bb[j,12:16,4:8].assign(rho_tot[j]*rho_tot_SWAP_V[j,3,1].numpy())\n",
        "  bb = bb[j,12:16,8:12].assign(rho_tot[j]*rho_tot_SWAP_V[j,3,2].numpy())\n",
        "  bb = bb[j,12:16,12:16].assign(rho_tot[j]*rho_tot_SWAP_V[j,3,3].numpy())\n",
        "\n",
        "rho_4 = bb "
      ]
    },
    {
      "cell_type": "code",
      "source": [
        "# tensorproduct function of two matrix \n",
        "def tensor_pro(sigma1,sigma2):\n",
        "  d1= len(sigma1[:,0])\n",
        "  d2= len(sigma2[:,0])\n",
        "  sigma_out_c = tf.cast(tf.zeros(shape=(d1*d2,d1*d2)),tf.complex128)\n",
        "  sigma_out = tf.Variable(sigma_out_c,tf.complex128)\n",
        "  for i in range(d2):\n",
        "    for j in range(d2):\n",
        "      sigma_out[i*d1:(i+1)*d1,j*d1:(j+1)*d1].assign(sigma1*(sigma2[i,j].numpy()))\n",
        "  return tf.constant(sigma_out,tf.complex128)   \n",
        "\n",
        "\n",
        "# pauli matrix\n",
        "sigma_0 = tf.constant([[1,0],[0,1]],tf.complex128)\n",
        "sigma_x = tf.constant([[0,1],[1,0]],tf.complex128)\n",
        "sigma_y = tf.constant([[0,-1j],[1j,0]],tf.complex128)\n",
        "sigma_z = tf.constant([[1,0],[0,-1]],tf.complex128)\n",
        "\n",
        "pi_1 = 1/4*(sigma_0+(1/np.sqrt(3))*(sigma_x+sigma_y+sigma_z))\n",
        "pi_2 = 1/4*(sigma_0+(1/np.sqrt(3))*(sigma_x-sigma_y-sigma_z))\n",
        "pi_3 = 1/4*(sigma_0+(1/np.sqrt(3))*(-sigma_x+sigma_y-sigma_z))\n",
        "pi_4 = 1/4*(sigma_0+(1/np.sqrt(3))*(-sigma_x-sigma_y+sigma_z))\n",
        "\n",
        "Pi_Bell = 1/4*(tensor_pro(sigma_0,sigma_0)-tensor_pro(sigma_x,sigma_x)-tensor_pro(sigma_y,sigma_y)-tensor_pro(sigma_z,sigma_z))\n",
        "Pi_Bell_ext = tensor_pro(sigma_0,tensor_pro(Pi_Bell,sigma_0))\n",
        "I4 = tensor_pro(tensor_pro(tensor_pro(sigma_0,sigma_0),sigma_0),sigma_0)\n",
        "\n",
        "pi_1_rext =tensor_pro(tensor_pro(tensor_pro(pi_1,sigma_0),sigma_0),sigma_0)\n",
        "pi_2_rext =tensor_pro(tensor_pro(tensor_pro(pi_2,sigma_0),sigma_0),sigma_0)\n",
        "pi_3_rext =tensor_pro(tensor_pro(tensor_pro(pi_3,sigma_0),sigma_0),sigma_0)\n",
        "pi_4_rext =tensor_pro(tensor_pro(tensor_pro(pi_4,sigma_0),sigma_0),sigma_0)\n",
        "#pi_r = tf.constant([pi_1_rext,pi_2_rext,pi_3_rext,pi_4_rext],tf.complex128)\n",
        "\n",
        "pi_1_lext =tensor_pro(tensor_pro(tensor_pro(sigma_0,sigma_0),sigma_0),pi_1)\n",
        "pi_2_lext =tensor_pro(tensor_pro(tensor_pro(sigma_0,sigma_0),sigma_0),pi_2)\n",
        "pi_3_lext =tensor_pro(tensor_pro(tensor_pro(sigma_0,sigma_0),sigma_0),pi_3)\n",
        "pi_4_lext =tensor_pro(tensor_pro(tensor_pro(sigma_0,sigma_0),sigma_0),pi_4)\n",
        "#pi_l = tf.constant([pi_1_lext,pi_2_lext,pi_3_lext,pi_4_lext])\n",
        "\n",
        "p = tf.zeros(shape=(sample_length,10))\n",
        "p = tf.Variable(p)\n",
        "for j in range(sample_length):\n",
        "  P11 = tf.math.real(tf.linalg.trace(rho_4[j]@pi_1_rext@Pi_Bell_ext@pi_1_lext)/tf.linalg.trace(rho_4[j]@pi_1_rext@I4@pi_1_lext)).numpy()\n",
        "  p[j,0].assign(P11)\n",
        "  P22 = tf.math.real(tf.linalg.trace(rho_4[j]@pi_2_rext@Pi_Bell_ext@pi_2_lext)/tf.linalg.trace(rho_4[j]@pi_2_rext@I4@pi_2_lext)).numpy()\n",
        "  p[j,1].assign(P22)\n",
        "  P33 = tf.math.real(tf.linalg.trace(rho_4[j]@pi_3_rext@Pi_Bell_ext@pi_3_lext)/tf.linalg.trace(rho_4[j]@pi_3_rext@I4@pi_3_lext)).numpy()\n",
        "  p[j,2].assign(P33)\n",
        "  P44 = tf.math.real(tf.linalg.trace(rho_4[j]@pi_4_rext@Pi_Bell_ext@pi_1_lext)/tf.linalg.trace(rho_4[j]@pi_4_rext@I4@pi_4_lext)).numpy()\n",
        "  p[j,3].assign(P44)\n",
        "  P13 = tf.math.real(tf.linalg.trace(rho_4[j]@pi_1_rext@Pi_Bell_ext@pi_3_lext)/tf.linalg.trace(rho_4[j]@pi_1_rext@I4@pi_3_lext)).numpy()\n",
        "  p[j,4].assign(P13)\n",
        "  P24 = tf.math.real(tf.linalg.trace(rho_4[j]@pi_2_rext@Pi_Bell_ext@pi_4_lext)/tf.linalg.trace(rho_4[j]@pi_2_rext@I4@pi_4_lext)).numpy()\n",
        "  p[j,5].assign(P24)\n",
        "  P14 = tf.math.real(tf.linalg.trace(rho_4[j]@pi_1_rext@Pi_Bell_ext@pi_4_lext)/tf.linalg.trace(rho_4[j]@pi_1_rext@I4@pi_4_lext)).numpy()\n",
        "  p[j,6].assign(P14)\n",
        "  P12 = tf.math.real(tf.linalg.trace(rho_4[j]@pi_1_rext@Pi_Bell_ext@pi_2_lext)/tf.linalg.trace(rho_4[j]@pi_1_rext@I4@pi_2_lext)).numpy()\n",
        "  p[j,7].assign(P12)\n",
        "  P23 = tf.math.real(tf.linalg.trace(rho_4[j]@pi_2_rext@Pi_Bell_ext@pi_3_lext)/tf.linalg.trace(rho_4[j]@pi_2_rext@I4@pi_3_lext)).numpy()\n",
        "  p[j,8].assign(P23)\n",
        "  P34 = tf.math.real(tf.linalg.trace(rho_4[j]@pi_3_rext@Pi_Bell_ext@pi_4_lext)/tf.linalg.trace(rho_4[j]@pi_3_rext@I4@pi_4_lext)).numpy()\n",
        "  p[j,9].assign(P34)"
      ],
      "metadata": {
        "id": "OS2Gxm7_ubXm"
      },
      "execution_count": null,
      "outputs": []
    },
    {
      "cell_type": "code",
      "source": [
        "# training, evaluatin and test dataset\n",
        "train = sample_length*0.8\n",
        "train_data = p[:8000].numpy()\n",
        "eval_data = p[8000:9000].numpy()\n",
        "test_data = p[9000:].numpy()\n",
        "train_labels = Negativity[:8000].numpy()\n",
        "eval_labels = Negativity[8000:9000].numpy()\n",
        "test_labels = Negativity[9000:].numpy()\n"
      ],
      "metadata": {
        "id": "9E6rvAH7B-BH"
      },
      "execution_count": null,
      "outputs": []
    },
    {
      "cell_type": "code",
      "source": [
        "# Artificial Neural Network Features = p Tensorflow(sample_length,10), Labels = Negativity Tensorflow(sample_length)\n",
        "#random seed\n",
        "tf.random.set_seed(42)\n",
        "#create the model\n",
        "model_entang = tf.keras.Sequential([\n",
        "                                    tf.keras.layers.Dense(200,activation=\"relu\",kernel_regularizer='l2'),\n",
        "                                    tf.keras.layers.Dense(150,activation=\"relu\"),\n",
        "                                    tf.keras.layers.Dense(1, activation=\"softplus\")\n",
        "])\n",
        "#compile the model\n",
        "model_entang.compile(loss=\"mse\",\n",
        "                     optimizer=tf.keras.optimizers.Adam(),\n",
        "                     metrics=[\"mse\"])\n",
        "#fit the model\n",
        "history = model_entang.fit(train_data,train_labels,epochs=500,validation_data=(eval_data, eval_labels),verbose=0)"
      ],
      "metadata": {
        "id": "QmUXrW_jrf9L"
      },
      "execution_count": null,
      "outputs": []
    },
    {
      "cell_type": "code",
      "source": [
        "# Artificial Neural Network Features = p Tensorflow(sample_length,10), Labels = Negativity Tensorflow(sample_length)\n",
        "# random seed\n",
        "tf.random.set_seed(42)\n",
        "#create the model\n",
        "model_entang_lr = tf.keras.Sequential([\n",
        "                                    tf.keras.layers.Dense(200,activation=\"relu\",kernel_regularizer='l2'),\n",
        "                                    tf.keras.layers.Dense(150,activation=\"relu\"),\n",
        "                                    tf.keras.layers.Dense(1, activation=\"softplus\")\n",
        "])\n",
        "#compile the model\n",
        "model_entang_lr.compile(loss=\"mse\",\n",
        "                     optimizer=tf.keras.optimizers.Adam(),\n",
        "                     metrics=[\"accuracy\"])\n",
        "\n",
        "# Create the learning rate callback\n",
        "lr_scheduler = tf.keras.callbacks.LearningRateScheduler(lambda epoch: 1e-3 * 10**(epoch/20))\n",
        "\n",
        "#fit the model\n",
        "history_lr = model_entang_lr.fit(train_data,train_labels,epochs=500,validation_data=(eval_data, eval_labels),\n",
        "                              callbacks=[lr_scheduler],verbose=0)"
      ],
      "metadata": {
        "id": "rxpgfzcf_TU_"
      },
      "execution_count": null,
      "outputs": []
    },
    {
      "cell_type": "code",
      "source": [
        "model_entang.summary()"
      ],
      "metadata": {
        "id": "Q2a67WbB39YD"
      },
      "execution_count": null,
      "outputs": []
    },
    {
      "cell_type": "code",
      "source": [
        "import pandas as pd\n",
        "pd.DataFrame(history.history).plot(title=\"loss of entangled ANN\")\n",
        "pd.DataFrame(history_lr.history).plot(title=\"loss of entangled ANN with changable learning rate\")"
      ],
      "metadata": {
        "id": "mCrgxLU-4SVC"
      },
      "execution_count": null,
      "outputs": []
    },
    {
      "cell_type": "code",
      "source": [
        "import numpy as np\n",
        "import matplotlib.pyplot as plt\n",
        "lrs = 1e-3 * (10**(np.arange(500)/20))\n",
        "plt.semilogx(lrs, history_lr.history[\"loss\"]) # want the x-axis to be log-scale\n",
        "plt.xlabel(\"Learning rate\")\n",
        "plt.ylabel(\"Loss\")\n",
        "plt.title(\"Finding the ideal learning rate\");"
      ],
      "metadata": {
        "id": "kZRBhPhnAZne"
      },
      "execution_count": null,
      "outputs": []
    },
    {
      "cell_type": "code",
      "source": [
        "model_entang.evaluate(test_data,test_labels)"
      ],
      "metadata": {
        "id": "BYL8Fjny7t1V"
      },
      "execution_count": null,
      "outputs": []
    },
    {
      "cell_type": "code",
      "source": [
        "Negativity_predict = model_entang.predict(test_data)\n",
        "test_labels.shape, np.squeeze(Negativity_predict).shape"
      ],
      "metadata": {
        "id": "JDNOiA4F3Cns"
      },
      "execution_count": null,
      "outputs": []
    },
    {
      "cell_type": "code",
      "source": [
        "#Coefficient of determination R^2\n",
        "N_preds=tf.constant(np.squeeze(model_entang.predict(p.numpy())))\n",
        "N_mean = 1/sample_length*tf.reduce_sum(Negativity)\n",
        "SS_tot = tf.reduce_sum(tf.square(Negativity-N_mean))\n",
        "SS_res = tf.reduce_sum(tf.square(Negativity-N_preds))\n",
        "R_2=1-SS_res/SS_tot\n",
        "R_2"
      ],
      "metadata": {
        "id": "97wgW4pMEJbB"
      },
      "execution_count": null,
      "outputs": []
    },
    {
      "cell_type": "code",
      "source": [
        "#Standard deviation\n",
        "mu = SS_res = 1/sample_length*tf.reduce_sum(Negativity-N_preds)\n",
        "tau = 1/np.sqrt(sample_length)*tf.sqrt(tf.reduce_sum(tf.square((Negativity-N_preds)-mu)))\n",
        "tau"
      ],
      "metadata": {
        "id": "1c0CL9owJCWX"
      },
      "execution_count": null,
      "outputs": []
    },
    {
      "cell_type": "code",
      "source": [
        "import matplotlib.pyplot as plt\n",
        "plt.scatter(np.squeeze(Negativity_predict),test_labels)\n",
        "plt.xlabel(\"Predicted value of Negativity\")\n",
        "plt.ylabel(\"Analytical value of Negativity\")\n",
        "plt.title(f\"B=10, R^2={R_2:0.03f}, tau={tau:0.03f}\")\n",
        "plt.show();"
      ],
      "metadata": {
        "id": "NME-K81m3XWM"
      },
      "execution_count": null,
      "outputs": []
    }
  ],
  "metadata": {
    "colab": {
      "collapsed_sections": [],
      "name": "Entanglement quantification from collective measurements processed by machine learning.ipynb",
      "provenance": [],
      "authorship_tag": "ABX9TyPFV5N8/M5bIDex87R2DFCR",
      "include_colab_link": true
    },
    "kernelspec": {
      "display_name": "Python 3",
      "name": "python3"
    },
    "language_info": {
      "name": "python"
    }
  },
  "nbformat": 4,
  "nbformat_minor": 0
}